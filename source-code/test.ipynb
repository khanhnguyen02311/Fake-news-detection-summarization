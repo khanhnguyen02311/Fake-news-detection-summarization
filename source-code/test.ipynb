{
 "cells": [
  {
   "attachments": {},
   "cell_type": "markdown",
   "metadata": {},
   "source": [
    "FakeBrCorpus:\n",
    "- Dataset: https://github.com/roneysco/Fake.br-Corpus\n",
    "- Docs: https://sites.icmc.usp.br/taspardo/PROPOR2018-MonteiroEtAl.pdf\n",
    "\n",
    "TwitterBR:\n",
    "- Dataset: https://github.com/phfaustini/BRACIS2019_FAKENEWS\n",
    "- Docs: https://ieeexplore.ieee.org/document/8923888/footnotes#footnotes\n",
    "\n",
    "fake_real_news_dataset:\n",
    "- Dataset: https://github.com/GeorgeMcIntire/fake_real_news_dataset\n",
    "- Docs: https://ieeexplore.ieee.org/abstract/document/8257971/footnotes#footnotes\n",
    "\n",
    "Fakenewsdata1\n",
    "- Dataset: https://github.com/rpitrust/fakenewsdata1\n",
    "- Docs: https://arxiv.org/pdf/1703.09398.pdf\n",
    "\n",
    "News-credibility\n",
    "- Dataset: https://github.com/mhardalov/news-credibility\n",
    "- Docs: https://arxiv.org/pdf/1911.08125.pdf\n"
   ]
  },
  {
   "cell_type": "code",
   "execution_count": 14,
   "metadata": {},
   "outputs": [],
   "source": [
    "import os, re\n",
    "import gensim, nltk\n",
    "import pandas as pd\n",
    "import numpy as np\n",
    "from nltk.test.gensim_fixt import setup_module\n",
    "from gensim.models import word2vec\n",
    "\n",
    "from sklearn.model_selection import train_test_split\n",
    "from sklearn.naive_bayes import GaussianNB\n",
    "from sklearn.neighbors import KNeighborsClassifier\n",
    "from sklearn.ensemble import RandomForestClassifier\n",
    "from sklearn.svm import SVC"
   ]
  },
  {
   "cell_type": "code",
   "execution_count": 2,
   "metadata": {},
   "outputs": [
    {
     "name": "stderr",
     "output_type": "stream",
     "text": [
      "[nltk_data] Downloading package stopwords to\n",
      "[nltk_data]     /home/knguyen02311/nltk_data...\n",
      "[nltk_data]   Package stopwords is already up-to-date!\n"
     ]
    },
    {
     "data": {
      "text/plain": [
       "True"
      ]
     },
     "execution_count": 2,
     "metadata": {},
     "output_type": "execute_result"
    }
   ],
   "source": [
    "setup_module()\n",
    "nltk.download('stopwords')"
   ]
  },
  {
   "cell_type": "code",
   "execution_count": 3,
   "metadata": {},
   "outputs": [],
   "source": [
    "PROJECT_DIR = '/media/knguyen02311/Data Disk/DataScience/data_mining/is252/TermProject/'\n",
    "STOP_WORDS = nltk.corpus.stopwords.words()"
   ]
  },
  {
   "cell_type": "code",
   "execution_count": 4,
   "metadata": {},
   "outputs": [],
   "source": [
    "fake_br_corpus_df = pd.read_csv(os.path.join(PROJECT_DIR, 'dataset/Fake.br-Corpus/preprocessed/pre-processed.csv'))"
   ]
  },
  {
   "cell_type": "code",
   "execution_count": 5,
   "metadata": {},
   "outputs": [
    {
     "data": {
      "text/html": [
       "<div>\n",
       "<style scoped>\n",
       "    .dataframe tbody tr th:only-of-type {\n",
       "        vertical-align: middle;\n",
       "    }\n",
       "\n",
       "    .dataframe tbody tr th {\n",
       "        vertical-align: top;\n",
       "    }\n",
       "\n",
       "    .dataframe thead th {\n",
       "        text-align: right;\n",
       "    }\n",
       "</style>\n",
       "<table border=\"1\" class=\"dataframe\">\n",
       "  <thead>\n",
       "    <tr style=\"text-align: right;\">\n",
       "      <th></th>\n",
       "      <th>index</th>\n",
       "      <th>label</th>\n",
       "      <th>preprocessed_news</th>\n",
       "    </tr>\n",
       "  </thead>\n",
       "  <tbody>\n",
       "    <tr>\n",
       "      <th>6582</th>\n",
       "      <td>6582</td>\n",
       "      <td>true</td>\n",
       "      <td>unico medico regiao sob fogo cruzado chega ate...</td>\n",
       "    </tr>\n",
       "    <tr>\n",
       "      <th>1533</th>\n",
       "      <td>1533</td>\n",
       "      <td>fake</td>\n",
       "      <td>sergio moro tomou importante decisao ultimas h...</td>\n",
       "    </tr>\n",
       "    <tr>\n",
       "      <th>6504</th>\n",
       "      <td>6504</td>\n",
       "      <td>true</td>\n",
       "      <td>nascemos diferentes fizemos diferente sonhamos...</td>\n",
       "    </tr>\n",
       "    <tr>\n",
       "      <th>590</th>\n",
       "      <td>590</td>\n",
       "      <td>fake</td>\n",
       "      <td>politico citado vai parar hospital desta vez p...</td>\n",
       "    </tr>\n",
       "    <tr>\n",
       "      <th>3642</th>\n",
       "      <td>3642</td>\n",
       "      <td>true</td>\n",
       "      <td>manifestacoes pedem temer estados df faixas ex...</td>\n",
       "    </tr>\n",
       "    <tr>\n",
       "      <th>967</th>\n",
       "      <td>967</td>\n",
       "      <td>fake</td>\n",
       "      <td>lucas lucco faz linda homenagem chapecoense va...</td>\n",
       "    </tr>\n",
       "    <tr>\n",
       "      <th>6047</th>\n",
       "      <td>6047</td>\n",
       "      <td>true</td>\n",
       "      <td>segunda turma stf manda soltar jose dirceu tre...</td>\n",
       "    </tr>\n",
       "    <tr>\n",
       "      <th>1517</th>\n",
       "      <td>1517</td>\n",
       "      <td>fake</td>\n",
       "      <td>fim maior estado pais prefeitos ja abandonaram...</td>\n",
       "    </tr>\n",
       "    <tr>\n",
       "      <th>6516</th>\n",
       "      <td>6516</td>\n",
       "      <td>true</td>\n",
       "      <td>matador baixada sera julgado vez veja depoimen...</td>\n",
       "    </tr>\n",
       "    <tr>\n",
       "      <th>6786</th>\n",
       "      <td>6786</td>\n",
       "      <td>true</td>\n",
       "      <td>ultimos dias participei animadas discussoes pr...</td>\n",
       "    </tr>\n",
       "  </tbody>\n",
       "</table>\n",
       "</div>"
      ],
      "text/plain": [
       "      index label                                  preprocessed_news\n",
       "6582   6582  true  unico medico regiao sob fogo cruzado chega ate...\n",
       "1533   1533  fake  sergio moro tomou importante decisao ultimas h...\n",
       "6504   6504  true  nascemos diferentes fizemos diferente sonhamos...\n",
       "590     590  fake  politico citado vai parar hospital desta vez p...\n",
       "3642   3642  true  manifestacoes pedem temer estados df faixas ex...\n",
       "967     967  fake  lucas lucco faz linda homenagem chapecoense va...\n",
       "6047   6047  true  segunda turma stf manda soltar jose dirceu tre...\n",
       "1517   1517  fake  fim maior estado pais prefeitos ja abandonaram...\n",
       "6516   6516  true  matador baixada sera julgado vez veja depoimen...\n",
       "6786   6786  true  ultimos dias participei animadas discussoes pr..."
      ]
     },
     "execution_count": 5,
     "metadata": {},
     "output_type": "execute_result"
    }
   ],
   "source": [
    "fake_br_corpus_df.sample(10)"
   ]
  },
  {
   "cell_type": "code",
   "execution_count": 6,
   "metadata": {},
   "outputs": [],
   "source": [
    "def build_corpus(data):\n",
    "   \"Creates a list of lists containing words from each sentence\"\n",
    "   corpus = []\n",
    "   for col in ['preprocessed_news']:\n",
    "      for sentence in data[col].iteritems():\n",
    "         word_list = sentence[1].split(\" \")\n",
    "         corpus.append(word_list)\n",
    "   return corpus"
   ]
  },
  {
   "cell_type": "code",
   "execution_count": 8,
   "metadata": {},
   "outputs": [
    {
     "name": "stderr",
     "output_type": "stream",
     "text": [
      "/tmp/ipykernel_19042/1678420349.py:5: FutureWarning: iteritems is deprecated and will be removed in a future version. Use .items instead.\n",
      "  for sentence in data[col].iteritems():\n"
     ]
    },
    {
     "data": {
      "text/plain": [
       "['katia',\n",
       " 'abreu',\n",
       " 'diz',\n",
       " 'vai',\n",
       " 'colocar',\n",
       " 'expulsao',\n",
       " 'moldura',\n",
       " 'nao',\n",
       " 'reclamar',\n",
       " 'senadora',\n",
       " 'katia',\n",
       " 'abreu',\n",
       " 'disse',\n",
       " 'expulsao',\n",
       " 'pmdb',\n",
       " 'resultado',\n",
       " 'acao',\n",
       " 'cupula',\n",
       " 'atual',\n",
       " 'legenda',\n",
       " 'segundo',\n",
       " 'oportunista',\n",
       " 'amanha',\n",
       " 'vou',\n",
       " 'botar',\n",
       " 'moldura',\n",
       " 'dourada',\n",
       " 'expulsao',\n",
       " 'porque',\n",
       " 'maos',\n",
       " 'onde',\n",
       " 'veio',\n",
       " 'atestado',\n",
       " 'boa',\n",
       " 'conduta',\n",
       " 'curriculo',\n",
       " 'pessoas',\n",
       " 'expulsaram',\n",
       " 'nao',\n",
       " 'servem',\n",
       " 'pais',\n",
       " 'servem',\n",
       " 'pais',\n",
       " 'beneficios',\n",
       " 'proprios',\n",
       " 'disse',\n",
       " 'katia',\n",
       " 'abreu',\n",
       " 'ue',\n",
       " 'expulsao',\n",
       " 'algo',\n",
       " 'tao',\n",
       " 'bom',\n",
       " 'curriculo',\n",
       " 'tanta',\n",
       " 'choradeira',\n",
       " 'katia',\n",
       " 'sabemos',\n",
       " 'motivo',\n",
       " 'provavelmente',\n",
       " 'katia',\n",
       " 'nao',\n",
       " 'valor',\n",
       " 'pt',\n",
       " 'partido',\n",
       " 'ja',\n",
       " 'deveria',\n",
       " 'absorvido',\n",
       " 'parece',\n",
       " 'pt',\n",
       " 'gostava',\n",
       " 'katia',\n",
       " 'somente',\n",
       " 'ficasse',\n",
       " 'entrincheirada',\n",
       " 'dentro',\n",
       " 'pmdb',\n",
       " 'rebaixar',\n",
       " 'demais',\n",
       " 'resta',\n",
       " 'katia',\n",
       " 'ficar',\n",
       " 'chorando',\n",
       " 'pitangas',\n",
       " 'todos',\n",
       " 'cantos',\n",
       " 'tempo',\n",
       " 'ate',\n",
       " 'momento',\n",
       " 'pt',\n",
       " 'nao',\n",
       " 'cadastrou',\n",
       " 'katia',\n",
       " 'abreu',\n",
       " 'fileiras',\n",
       " 'situacao',\n",
       " 'patetica',\n",
       " 'agricultura',\n",
       " 'dilma']"
      ]
     },
     "execution_count": 8,
     "metadata": {},
     "output_type": "execute_result"
    }
   ],
   "source": [
    "corpus = build_corpus(fake_br_corpus_df)\n",
    "corpus[0]"
   ]
  },
  {
   "cell_type": "code",
   "execution_count": 11,
   "metadata": {},
   "outputs": [],
   "source": [
    "model = word2vec.Word2Vec(corpus, vector_size=100, window=10, min_count=1, workers=4)"
   ]
  },
  {
   "cell_type": "code",
   "execution_count": 13,
   "metadata": {},
   "outputs": [
    {
     "data": {
      "text/plain": [
       "array([-0.17740263,  0.25392765, -0.03253665,  0.09027711, -0.0458337 ,\n",
       "       -0.3076942 , -0.02207422,  0.46502534, -0.41814908, -0.13970622,\n",
       "        0.311665  , -0.36133963,  0.22353913,  0.24842598,  0.01198765,\n",
       "       -0.15006049,  0.03375578, -0.21121357,  0.04280993, -0.509796  ,\n",
       "        0.04940256, -0.13171946,  0.41970634, -0.02115704, -0.07887731,\n",
       "        0.06249244, -0.3852297 ,  0.02216594, -0.26309198,  0.112581  ,\n",
       "        0.23595367,  0.01888366, -0.14264409, -0.29026774,  0.14733529,\n",
       "        0.16317804,  0.23939724, -0.27336544, -0.3308495 , -0.5228568 ,\n",
       "       -0.31708473, -0.33834752,  0.18301402,  0.23359628,  0.2923066 ,\n",
       "       -0.25499392, -0.37658578, -0.00518732,  0.0808918 , -0.03816669,\n",
       "        0.10926989, -0.01398312, -0.14219972, -0.00172608, -0.30964673,\n",
       "        0.10644937,  0.05900014,  0.10704908, -0.15232527,  0.01456856,\n",
       "       -0.01194535,  0.19246227, -0.12758654,  0.13192254,  0.05690739,\n",
       "        0.12521018,  0.07610939,  0.45177686, -0.2381442 , -0.0849963 ,\n",
       "        0.02778786,  0.1260981 ,  0.12153747, -0.02478202,  0.21242297,\n",
       "        0.24742019,  0.07077231,  0.22095008, -0.23000917,  0.2889457 ,\n",
       "       -0.3119218 , -0.2520124 ,  0.17005312,  0.14878902, -0.28067058,\n",
       "       -0.05528   , -0.27987427,  0.12410453,  0.38646525,  0.08548202,\n",
       "        0.04808231,  0.2231035 ,  0.11418305, -0.05513184,  0.47184822,\n",
       "        0.27801552,  0.44386476, -0.13066964, -0.05979297,  0.10394762],\n",
       "      dtype=float32)"
      ]
     },
     "execution_count": 13,
     "metadata": {},
     "output_type": "execute_result"
    }
   ],
   "source": [
    "model.wv['curriculo']"
   ]
  },
  {
   "cell_type": "code",
   "execution_count": null,
   "metadata": {},
   "outputs": [],
   "source": []
  }
 ],
 "metadata": {
  "kernelspec": {
   "display_name": "cs224env",
   "language": "python",
   "name": "python3"
  },
  "language_info": {
   "codemirror_mode": {
    "name": "ipython",
    "version": 3
   },
   "file_extension": ".py",
   "mimetype": "text/x-python",
   "name": "python",
   "nbconvert_exporter": "python",
   "pygments_lexer": "ipython3",
   "version": "3.10.9"
  },
  "orig_nbformat": 4
 },
 "nbformat": 4,
 "nbformat_minor": 2
}
