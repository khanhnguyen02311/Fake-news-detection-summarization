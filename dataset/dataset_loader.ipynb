{
 "cells": [
  {
   "cell_type": "code",
   "execution_count": 1,
   "metadata": {},
   "outputs": [
    {
     "name": "stdout",
     "output_type": "stream",
     "text": [
      "fatal: destination path 'Fake.br-Corpus' already exists and is not an empty directory.\n"
     ]
    }
   ],
   "source": [
    "# FakeBrCorpus\n",
    "!git clone https://github.com/roneysco/Fake.br-Corpus"
   ]
  },
  {
   "cell_type": "code",
   "execution_count": null,
   "metadata": {},
   "outputs": [],
   "source": [
    "# TwitterBR\n",
    "!git clone https://github.com/phfaustini/BRACIS2019_FAKENEWS"
   ]
  },
  {
   "cell_type": "code",
   "execution_count": null,
   "metadata": {},
   "outputs": [],
   "source": [
    "# fake_real_news_dataset\n",
    "!git clone https://github.com/GeorgeMcIntire/fake_real_news_dataset"
   ]
  },
  {
   "cell_type": "code",
   "execution_count": null,
   "metadata": {},
   "outputs": [],
   "source": [
    "# fakenewsdata1\n",
    "!git clone https://github.com/rpitrust/fakenewsdata1"
   ]
  },
  {
   "cell_type": "code",
   "execution_count": null,
   "metadata": {},
   "outputs": [],
   "source": [
    "# news-credibility\n",
    "!git clone https://github.com/mhardalov/news-credibility"
   ]
  }
 ],
 "metadata": {
  "kernelspec": {
   "display_name": "cs224env",
   "language": "python",
   "name": "python3"
  },
  "language_info": {
   "codemirror_mode": {
    "name": "ipython",
    "version": 3
   },
   "file_extension": ".py",
   "mimetype": "text/x-python",
   "name": "python",
   "nbconvert_exporter": "python",
   "pygments_lexer": "ipython3",
   "version": "3.10.9"
  },
  "orig_nbformat": 4
 },
 "nbformat": 4,
 "nbformat_minor": 2
}
